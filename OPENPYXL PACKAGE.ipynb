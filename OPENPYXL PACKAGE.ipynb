{
 "cells": [
  {
   "cell_type": "code",
   "execution_count": null,
   "id": "6649935e",
   "metadata": {},
   "outputs": [],
   "source": [
    "from openpyxl import load_workbook\n",
    "\n",
    "wb = load_workbook(\"data.xlsx\")\n",
    "sheet = wb[\"Sheet1\"]\n",
    "\n",
    "for row in sheet.iter_rows():\n",
    "    for cell in row:\n",
    "        print(cell.value)"
   ]
  },
  {
   "cell_type": "code",
   "execution_count": null,
   "id": "20a03c54",
   "metadata": {},
   "outputs": [],
   "source": [
    "from openpyxl import Workbook\n",
    "\n",
    "# Create a new workbook\n",
    "wb = Workbook()\n",
    "\n",
    "# Access the active sheet\n",
    "sheet = wb.active\n",
    "\n",
    "# Write data to the sheet\n",
    "sheet['A1'] = 'Hello'\n",
    "sheet['B1'] = 'World'\n",
    "\n",
    "# Save the workbook\n",
    "wb.save('example.xlsx')"
   ]
  },
  {
   "cell_type": "code",
   "execution_count": 2,
   "id": "e983ddd7",
   "metadata": {},
   "outputs": [
    {
     "name": "stdout",
     "output_type": "stream",
     "text": [
      "MOVIES\n"
     ]
    }
   ],
   "source": [
    "from openpyxl import load_workbook\n",
    "\n",
    "# Load an existing workbook\n",
    "wb = load_workbook('C:\\\\Users\\\\HP\\\\Desktop\\\\Movies_list.xlsx')\n",
    "\n",
    "# Access the active sheet\n",
    "sheet = wb.active\n",
    "\n",
    "# Read data from a cell\n",
    "data = sheet['A1'].value\n",
    "print(data)"
   ]
  },
  {
   "cell_type": "code",
   "execution_count": 4,
   "id": "ef7b505b",
   "metadata": {},
   "outputs": [],
   "source": [
    "from openpyxl.styles import Font\n",
    "\n",
    "# Apply a bold font to a cell\n",
    "sheet['A1'].font = Font(bold=True)"
   ]
  },
  {
   "cell_type": "code",
   "execution_count": 5,
   "id": "5d5fb0a6",
   "metadata": {},
   "outputs": [],
   "source": [
    "# Add a formula to a cell\n",
    "sheet['C1'] = '=A1 + B1'"
   ]
  },
  {
   "cell_type": "code",
   "execution_count": 6,
   "id": "b9bec3f9",
   "metadata": {},
   "outputs": [],
   "source": [
    "# Insert a new row at index 2\n",
    "sheet.insert_rows(2)\n",
    "\n",
    "# Write data to the new row\n",
    "sheet['A2'] = 'New Data'"
   ]
  },
  {
   "cell_type": "code",
   "execution_count": 11,
   "id": "c1628354",
   "metadata": {},
   "outputs": [],
   "source": [
    "from openpyxl.drawing.image import Image\n",
    "\n",
    "# Add an image to the worksheet\n",
    "img = Image('C:\\\\Users\\\\HP\\\\Desktop\\\\Screenshot _68.png')\n",
    "sheet.add_image(img, 'D2')"
   ]
  },
  {
   "cell_type": "code",
   "execution_count": 12,
   "id": "b69af72e",
   "metadata": {},
   "outputs": [],
   "source": [
    "# Create a new sheet\n",
    "new_sheet = wb.create_sheet(title='NewSheet')"
   ]
  },
  {
   "cell_type": "code",
   "execution_count": 13,
   "id": "b8b1bf86",
   "metadata": {},
   "outputs": [],
   "source": [
    "excel_file_name = 'C:\\\\Users\\\\HP\\\\Desktop\\\\Movies_list2.xlsx'\n",
    "wb.save(excel_file_name)"
   ]
  },
  {
   "cell_type": "code",
   "execution_count": null,
   "id": "002928e1",
   "metadata": {},
   "outputs": [],
   "source": []
  }
 ],
 "metadata": {
  "kernelspec": {
   "display_name": "Python 3 (ipykernel)",
   "language": "python",
   "name": "python3"
  },
  "language_info": {
   "codemirror_mode": {
    "name": "ipython",
    "version": 3
   },
   "file_extension": ".py",
   "mimetype": "text/x-python",
   "name": "python",
   "nbconvert_exporter": "python",
   "pygments_lexer": "ipython3",
   "version": "3.10.1"
  }
 },
 "nbformat": 4,
 "nbformat_minor": 5
}
