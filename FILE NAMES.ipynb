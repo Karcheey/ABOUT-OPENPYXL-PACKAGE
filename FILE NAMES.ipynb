{
 "cells": [
  {
   "cell_type": "code",
   "execution_count": 17,
   "id": "5897ee5f",
   "metadata": {},
   "outputs": [],
   "source": [
    "import os\n",
    "\n",
    "folder_path = 'C:\\\\Users\\\\HP\\\\Downloads\\\\POLICIES\\\\POLICIES\\\\Policies2016'\n",
    "file_names = os.listdir(folder_path)"
   ]
  },
  {
   "cell_type": "code",
   "execution_count": 18,
   "id": "7114d9eb",
   "metadata": {},
   "outputs": [],
   "source": [
    "from openpyxl import Workbook\n",
    "\n",
    "# Create a new Excel workbook and select the active sheet\n",
    "wb = Workbook()\n",
    "ws = wb.active"
   ]
  },
  {
   "cell_type": "code",
   "execution_count": 19,
   "id": "ff33aace",
   "metadata": {},
   "outputs": [],
   "source": [
    "for i, file_name in enumerate(file_names, start=1):\n",
    "    ws.cell(row=i, column=1, value=file_name)"
   ]
  },
  {
   "cell_type": "code",
   "execution_count": null,
   "id": "742f4b64",
   "metadata": {},
   "outputs": [],
   "source": []
  },
  {
   "cell_type": "code",
   "execution_count": 20,
   "id": "d6cce7f4",
   "metadata": {},
   "outputs": [],
   "source": [
    "excel_file_name = 'file_names.xlsx'\n",
    "wb.save(excel_file_name)"
   ]
  }
 ],
 "metadata": {
  "kernelspec": {
   "display_name": "Python 3 (ipykernel)",
   "language": "python",
   "name": "python3"
  },
  "language_info": {
   "codemirror_mode": {
    "name": "ipython",
    "version": 3
   },
   "file_extension": ".py",
   "mimetype": "text/x-python",
   "name": "python",
   "nbconvert_exporter": "python",
   "pygments_lexer": "ipython3",
   "version": "3.10.1"
  }
 },
 "nbformat": 4,
 "nbformat_minor": 5
}
